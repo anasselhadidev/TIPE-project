{
 "cells": [
  {
   "cell_type": "code",
   "execution_count": 4,
   "id": "ebda2096",
   "metadata": {
    "collapsed": true
   },
   "outputs": [
    {
     "name": "stdout",
     "output_type": "stream",
     "text": [
      "Veuillez entrer la vitesse moyenne (en m/s) : d\n"
     ]
    },
    {
     "ename": "ValueError",
     "evalue": "could not convert string to float: 'd'",
     "output_type": "error",
     "traceback": [
      "\u001b[1;31m---------------------------------------------------------------------------\u001b[0m",
      "\u001b[1;31mValueError\u001b[0m                                Traceback (most recent call last)",
      "Input \u001b[1;32mIn [4]\u001b[0m, in \u001b[0;36m<cell line: 9>\u001b[1;34m()\u001b[0m\n\u001b[0;32m      6\u001b[0m constantes_refroidissement \u001b[38;5;241m=\u001b[39m [\u001b[38;5;241m0.0007598\u001b[39m, \u001b[38;5;241m-\u001b[39m\u001b[38;5;241m0.01352\u001b[39m, \u001b[38;5;241m0.04712\u001b[39m]\n\u001b[0;32m      7\u001b[0m constantes_auxiliaire \u001b[38;5;241m=\u001b[39m [\u001b[38;5;241m0\u001b[39m, \u001b[38;5;241m0\u001b[39m, \u001b[38;5;241m0.2889\u001b[39m]\n\u001b[1;32m----> 9\u001b[0m v_moy \u001b[38;5;241m=\u001b[39m \u001b[38;5;28;43mfloat\u001b[39;49m\u001b[43m(\u001b[49m\u001b[38;5;28;43minput\u001b[39;49m\u001b[43m(\u001b[49m\u001b[38;5;124;43m\"\u001b[39;49m\u001b[38;5;124;43mVeuillez entrer la vitesse moyenne (en m/s) : \u001b[39;49m\u001b[38;5;124;43m\"\u001b[39;49m\u001b[43m)\u001b[49m\u001b[43m)\u001b[49m\n\u001b[0;32m     10\u001b[0m \u001b[38;5;66;03m# Noms des mois\u001b[39;00m\n\u001b[0;32m     11\u001b[0m mois \u001b[38;5;241m=\u001b[39m [calendar\u001b[38;5;241m.\u001b[39mmonth_name[i] \u001b[38;5;28;01mfor\u001b[39;00m i \u001b[38;5;129;01min\u001b[39;00m \u001b[38;5;28mrange\u001b[39m(\u001b[38;5;241m1\u001b[39m, \u001b[38;5;241m13\u001b[39m)]\n",
      "\u001b[1;31mValueError\u001b[0m: could not convert string to float: 'd'"
     ]
    }
   ],
   "source": [
    "                            #### modèle de consommation thermique\n",
    "import matplotlib.pyplot as plt\n",
    "import calendar\n",
    "\n",
    "constantes_chauffage = [0.001561, -0.09969, 1.515]\n",
    "constantes_refroidissement = [0.0007598, -0.01352, 0.04712]\n",
    "constantes_auxiliaire = [0, 0, 0.2889]\n",
    "\n",
    "v_moy = float(input(\"Veuillez entrer la vitesse moyenne (en m/s) : \"))\n",
    "# Noms des mois\n",
    "mois = [calendar.month_name[i] for i in range(1, 13)]\n",
    "\n",
    "# Saisie de la température pour chaque mois\n",
    "temperature_mensuelle = []\n",
    "\n",
    "for i in range(12):\n",
    "    temperature = float(input(f\"Entrez la température du mois {mois[i]}: \"))\n",
    "    temperature_mensuelle.append(temperature)\n",
    "\n",
    "# Calcul de la consommation mensuelle pour chaque phase\n",
    "consommation_chauffage = [constantes_chauffage[0] * T**2 +\n",
    "                    constantes_chauffage[1] * T + constantes_chauffage[2]\n",
    "                    for T in temperature_mensuelle]\n",
    "consommation_refroidissement = [constantes_refroidissement[0] * T**2 +\n",
    "            constantes_refroidissement[1] * T + constantes_refroidissement[2]\n",
    "            for T in temperature_mensuelle]\n",
    "consommation_auxiliaire = [constantes_auxiliaire[0] * T**2 +\n",
    "                    constantes_auxiliaire[1] * T + constantes_auxiliaire[2]\n",
    "                    for T in temperature_mensuelle]\n",
    "\n",
    "# Division de la consommation par 1000 * v_moy * 3.6\n",
    "consommation_chauffage = [cons / (1000 * v_moy * 3.6) \n",
    "                    for cons in consommation_chauffage if cons >= 0]\n",
    "consommation_refroidissement = [cons / (1000 * v_moy * 3.6) \n",
    "                    for cons in consommation_refroidissement if cons >= 0]\n",
    "consommation_auxiliaire = [cons / (1000 * v_moy * 3.6)\n",
    "                    for cons in consommation_auxiliaire if cons >= 0]\n",
    "\n",
    "# Position des barres pour chaque mois\n",
    "position = range(len(mois))\n",
    "\n",
    "# Largeur des barres\n",
    "largeur = 0.25\n",
    "\n",
    "# Affichage du graphe en barres avec les noms des mois\n",
    "plt.figure(figsize=(10, 6))\n",
    "plt.bar([p - largeur for p in position], consommation_chauffage,\n",
    "            width=largeur, label='Chauffage')\n",
    "plt.bar(position, consommation_refroidissement, width=largeur,\n",
    "            label='Refroidissement')\n",
    "plt.bar([p + largeur for p in position], consommation_auxiliaire,\n",
    "        width=largeur, label='Auxiliaire')\n",
    "plt.xlabel('Mois')\n",
    "plt.ylabel('Consommation (kWh/km)')\n",
    "plt.title('Consommation mensuelle')\n",
    "plt.legend()\n",
    "plt.xticks(position, mois, rotation=45)\n",
    "plt.show()"
   ]
  }
 ],
 "metadata": {
  "kernelspec": {
   "display_name": "Python 3 (ipykernel)",
   "language": "python",
   "name": "python3"
  },
  "language_info": {
   "codemirror_mode": {
    "name": "ipython",
    "version": 3
   },
   "file_extension": ".py",
   "mimetype": "text/x-python",
   "name": "python",
   "nbconvert_exporter": "python",
   "pygments_lexer": "ipython3",
   "version": "3.9.12"
  }
 },
 "nbformat": 4,
 "nbformat_minor": 5
}
